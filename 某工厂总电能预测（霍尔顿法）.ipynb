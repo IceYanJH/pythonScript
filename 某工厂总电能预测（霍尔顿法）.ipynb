{
 "cells": [
  {
   "cell_type": "code",
   "execution_count": 2,
   "metadata": {},
   "outputs": [],
   "source": [
    "def PhotovoltaicTotalPowerPredict(year, month):\n",
    "    import pandas as pd\n",
    "    import numpy as np\n",
    "    import statsmodels.api as sm\n",
    "    from statsmodels.tsa.api import Holt\n",
    "    import itertools\n",
    "    import warnings\n",
    "    warnings.filterwarnings(\"ignore\")\n",
    "\n",
    "\n",
    "    data = pd.read_excel(r\"D:\\BONC\\jobContent\\PhotovoltaicPowerPrediction\\DataCenterExport2019-10-09.xls\")\n",
    "    data['Timestamp'] = pd.to_datetime(data['日期'], format='%Y/%m/%d %H:%M:%S')\n",
    "    data.index = data['Timestamp']\n",
    "    resamplingData = data.resample(\"15T\").mean()\n",
    "\n",
    "    for AIndex in range(len(resamplingData)):\n",
    "        if np.isnan(resamplingData.iloc[AIndex][\"参数值\"]):\n",
    "            for BIndex in range(AIndex + 1, len(resamplingData)):\n",
    "                if not np.isnan(resamplingData.iloc[BIndex][\"参数值\"]):\n",
    "                    resamplingData.iloc[AIndex][\"参数值\"] = (resamplingData.iloc[AIndex - 1][\"参数值\"] + resamplingData.iloc[BIndex][\"参数值\"]) / 2\n",
    "                    break\n",
    "    \n",
    "    SmoothingLevelList = np.arange(0.01, 1, 0.01)\n",
    "    SmoothingSlopeList = np.arange(0.01, 1, 0.01)\n",
    "    ErrorValue = 0.1\n",
    "    StandardErrorValue = 0.02\n",
    "    messageList = []\n",
    "   \n",
    "    train = resamplingData[96 * TrainStartNumber : 96 * TrainEndNumber]\n",
    "    test = resamplingData[96 * TestStartNumber : 96 * TestEndNumber]\n",
    "    y_hat_avg = test.copy()\n",
    "    \n",
    "    parametersList = list(itertools.product(SmoothingLevelList, SmoothingSlopeList))\n",
    "    \n",
    "    for everyParameter in parametersList:\n",
    "        try:\n",
    "            fit = Holt(np.asarray(train['参数值'])).fit(smoothing_level=everyParameter[0], smoothing_slope=everyParameter[1])\n",
    "            y_hat_avg['Holt_linear'] = fit.forecast(len(test))\n",
    "        except:\n",
    "            continue\n",
    "\n",
    "        predictValue = y_hat_avg['Holt_linear'][-1] - y_hat_avg['Holt_linear'][0]\n",
    "        realValue = resamplingData.iloc[96 * TestEndNumber - 1][\"参数值\"] - resamplingData.iloc[96 * TestStartNumber][\"参数值\"]\n",
    "        errorValue = abs((predictValue - realValue) / realValue)\n",
    "        messageList.append([realValue, predictValue, errorValue, [everyParameter[0], everyParameter[1]]])\n",
    "\n",
    "\n",
    "        if errorValue < StandardErrorValue:\n",
    "            BestSmoothingLevel = everyParameter[0]\n",
    "            BestSmoothingSlope = everyParameter[1]\n",
    "            bestParameter = [everyParameter[0], everyParameter[1]]\n",
    "\n",
    "            print(\"真实值：{}，预测值：{}， 最小误差：{}，对应参数：{}\".format(realValue, predictValue, errorValue, \n",
    "                                                  [everyParameter[0], everyParameter[1]]))\n",
    "            \n",
    "            if ErrorValue < StandardErrorValue:\n",
    "                break"
   ]
  },
  {
   "cell_type": "code",
   "execution_count": null,
   "metadata": {},
   "outputs": [],
   "source": []
  }
 ],
 "metadata": {
  "kernelspec": {
   "display_name": "Python 3",
   "language": "python",
   "name": "python3"
  },
  "language_info": {
   "codemirror_mode": {
    "name": "ipython",
    "version": 3
   },
   "file_extension": ".py",
   "mimetype": "text/x-python",
   "name": "python",
   "nbconvert_exporter": "python",
   "pygments_lexer": "ipython3",
   "version": "3.6.5"
  }
 },
 "nbformat": 4,
 "nbformat_minor": 2
}
